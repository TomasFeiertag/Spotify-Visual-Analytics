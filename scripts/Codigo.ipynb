{
 "cells": [
  {
   "cell_type": "code",
   "execution_count": 6,
   "metadata": {},
   "outputs": [],
   "source": [
    "import requests\n",
    "import pandas as pd\n",
    "\n",
    "# Function to get Spotify access token\n",
    "def get_spotify_token(client_id, client_secret):\n",
    "    auth_url = 'https://accounts.spotify.com/api/token'\n",
    "    auth_response = requests.post(auth_url, {\n",
    "        'grant_type': 'client_credentials',\n",
    "        'client_id': '',\n",
    "        'client_secret': '',\n",
    "    })\n",
    "    auth_data = auth_response.json()\n",
    "    return auth_data['access_token']\n",
    "\n",
    "# Function to search for a track and get its ID\n",
    "def search_track(track_name, artist_name, token):\n",
    "    query = f\"{track_name} artist:{artist_name}\"\n",
    "    url = f\"https://api.spotify.com/v1/search?q={query}&type=track\"\n",
    "    response = requests.get(url, headers={\n",
    "        'Authorization': f'Bearer {token}'\n",
    "    })\n",
    "    json_data = response.json()\n",
    "    try:\n",
    "        first_result = json_data['tracks']['items'][0]\n",
    "        track_id = first_result['id']\n",
    "        return track_id\n",
    "    except (KeyError, IndexError):\n",
    "        return None\n",
    "\n",
    "# Function to get track details\n",
    "def get_track_details(track_id, token):\n",
    "    url = f\"https://api.spotify.com/v1/tracks/{track_id}\"\n",
    "    response = requests.get(url, headers={\n",
    "        'Authorization': f'Bearer {token}'\n",
    "    })\n",
    "    json_data = response.json()\n",
    "    image_url = json_data['album']['images'][0]['url']\n",
    "    return image_url\n",
    "\n",
    "# Your Spotify API Credentials\n",
    "client_id = 'your_client_id'   # Cambia esto por tu client_id\n",
    "client_secret = 'your_client_secret'  # Cambia esto por tu client_secret\n",
    "\n",
    "# Get Access Token\n",
    "access_token = get_spotify_token(client_id, client_secret)\n",
    "\n",
    "# Read your DataFrame\n",
    "df_spotify = pd.read_csv('Spotify_2024.csv', encoding='ISO-8859-1')\n",
    "\n",
    "# Loop through each row to get track details and add to DataFrame\n",
    "for i, row in df_spotify.iterrows():\n",
    "    track_name = row['Track']  # Utiliza la columna 'Track'\n",
    "    artist_name = row['Artist']  # Utiliza la columna 'Artist'\n",
    "\n",
    "    track_id = search_track(track_name, artist_name, access_token)\n",
    "    if track_id:\n",
    "        image_url = get_track_details(track_id, access_token)\n",
    "        df_spotify.at[i, 'image_url'] = image_url  # Añade la imagen a la nueva columna\n",
    "\n",
    "# Save the updated DataFrame\n",
    "df_spotify.to_csv('updated_file.csv', index=False)\n"
   ]
  },
  {
   "cell_type": "code",
   "execution_count": 16,
   "metadata": {},
   "outputs": [
    {
     "name": "stdout",
     "output_type": "stream",
     "text": [
      "                        Track                    Album Name          Artist  \\\n",
      "0         MILLION DOLLAR BABY  Million Dollar Baby - Single   Tommy Richman   \n",
      "1                 Not Like Us                   Not Like Us  Kendrick Lamar   \n",
      "2  i like the way you kiss me    I like the way you kiss me         Artemas   \n",
      "3                     Flowers              Flowers - Single     Miley Cyrus   \n",
      "4                     Houdini                       Houdini          Eminem   \n",
      "\n",
      "  Release Date          ISRC All Time Rank  Track Score Spotify Streams  \\\n",
      "0    4/26/2024  QM24S2402528             1        725.4     390,470,936   \n",
      "1     5/4/2024  USUG12400910             2        545.9     323,703,884   \n",
      "2    3/19/2024  QZJ842400387             3        538.4     601,309,283   \n",
      "3    1/12/2023  USSM12209777             4        444.9   2,031,280,633   \n",
      "4    5/31/2024  USUG12403398             5        423.3     107,034,922   \n",
      "\n",
      "  Spotify Playlist Count Spotify Playlist Reach  ...  Deezer Playlist Count  \\\n",
      "0                 30,716            196,631,588  ...                   62.0   \n",
      "1                 28,113            174,597,137  ...                   67.0   \n",
      "2                 54,331            211,607,669  ...                  136.0   \n",
      "3                269,802            136,569,078  ...                  264.0   \n",
      "4                  7,223            151,469,874  ...                   82.0   \n",
      "\n",
      "  Deezer Playlist Reach Amazon Playlist Count Pandora Streams  \\\n",
      "0            17,598,718                 114.0      18,004,655   \n",
      "1            10,422,430                 111.0       7,780,028   \n",
      "2            36,321,847                 172.0       5,022,621   \n",
      "3            24,684,248                 210.0     190,260,277   \n",
      "4            17,660,624                 105.0       4,493,884   \n",
      "\n",
      "  Pandora Track Stations Soundcloud Streams Shazam Counts  TIDAL Popularity  \\\n",
      "0                 22,931          4,818,457     2,669,262               NaN   \n",
      "1                 28,444          6,623,075     1,118,279               NaN   \n",
      "2                  5,639          7,208,651     5,285,340               NaN   \n",
      "3                203,384                NaN    11,822,942               NaN   \n",
      "4                  7,006            207,179       457,017               NaN   \n",
      "\n",
      "  Explicit Track                                          image_url  \n",
      "0              0  https://i.scdn.co/image/ab67616d0000b27301c0cd...  \n",
      "1              1  https://i.scdn.co/image/ab67616d0000b2731ea0c6...  \n",
      "2              0  https://i.scdn.co/image/ab67616d0000b273e67611...  \n",
      "3              0  https://i.scdn.co/image/ab67616d0000b273cd2220...  \n",
      "4              1  https://i.scdn.co/image/ab67616d0000b273810603...  \n",
      "\n",
      "[5 rows x 30 columns]\n"
     ]
    }
   ],
   "source": [
    "# Leer el archivo CSV actualizado\n",
    "df_updated = pd.read_csv('updated_file.csv')\n",
    "\n",
    "# Mostrar las primeras filas para verificar\n",
    "print(df_updated.head())"
   ]
  },
  {
   "cell_type": "code",
   "execution_count": 25,
   "metadata": {},
   "outputs": [
    {
     "name": "stdout",
     "output_type": "stream",
     "text": [
      "Track                            0\n",
      "Album Name                       0\n",
      "Artist                           5\n",
      "Release Date                     0\n",
      "ISRC                             0\n",
      "All Time Rank                    0\n",
      "Track Score                      0\n",
      "Spotify Streams                113\n",
      "Spotify Playlist Count          70\n",
      "Spotify Playlist Reach          72\n",
      "Spotify Popularity             804\n",
      "YouTube Views                  308\n",
      "YouTube Likes                  315\n",
      "TikTok Posts                  1173\n",
      "TikTok Likes                   980\n",
      "TikTok Views                   981\n",
      "YouTube Playlist Reach        1009\n",
      "Apple Music Playlist Count     561\n",
      "AirPlay Spins                  498\n",
      "SiriusXM Spins                2123\n",
      "Deezer Playlist Count          921\n",
      "Deezer Playlist Reach          928\n",
      "Amazon Playlist Count         1055\n",
      "Pandora Streams               1106\n",
      "Pandora Track Stations        1268\n",
      "Soundcloud Streams            3333\n",
      "Shazam Counts                  577\n",
      "TIDAL Popularity              4600\n",
      "Explicit Track                   0\n",
      "image_url                      563\n",
      "dtype: int64\n"
     ]
    }
   ],
   "source": [
    "# Verificar valores nulos en el DataFrame\n",
    "print(df_updated.isnull().sum())"
   ]
  },
  {
   "cell_type": "code",
   "execution_count": 27,
   "metadata": {},
   "outputs": [
    {
     "name": "stdout",
     "output_type": "stream",
     "text": [
      "(4600, 30)\n",
      "Track                            0\n",
      "Album Name                       0\n",
      "Artist                           0\n",
      "Release Date                     0\n",
      "ISRC                             0\n",
      "All Time Rank                    0\n",
      "Track Score                      0\n",
      "Spotify Streams                  0\n",
      "Spotify Playlist Count          70\n",
      "Spotify Playlist Reach          72\n",
      "Spotify Popularity             804\n",
      "YouTube Views                  308\n",
      "YouTube Likes                  315\n",
      "TikTok Posts                  1173\n",
      "TikTok Likes                   980\n",
      "TikTok Views                   981\n",
      "YouTube Playlist Reach        1009\n",
      "Apple Music Playlist Count     561\n",
      "AirPlay Spins                  498\n",
      "SiriusXM Spins                2123\n",
      "Deezer Playlist Count          921\n",
      "Deezer Playlist Reach          928\n",
      "Amazon Playlist Count         1055\n",
      "Pandora Streams               1106\n",
      "Pandora Track Stations        1268\n",
      "Soundcloud Streams            3333\n",
      "Shazam Counts                  577\n",
      "TIDAL Popularity              4600\n",
      "Explicit Track                   0\n",
      "image_url                      563\n",
      "dtype: int64\n"
     ]
    }
   ],
   "source": [
    "# Cargar el DataFrame original\n",
    "df = pd.read_csv('updated_file.csv', encoding='ISO-8859-1')\n",
    "\n",
    "# Función para limpiar datos\n",
    "def clean_data(df):\n",
    "    # Limpiar caracteres raros en columnas de texto\n",
    "    def clean_text(text):\n",
    "        if isinstance(text, str):  # Asegúrate de que sea una cadena\n",
    "            text = ''.join(c for c in text if ord(c) < 128)  # Eliminar caracteres no ASCII\n",
    "            return text.strip()  # Eliminar espacios en blanco\n",
    "        return text\n",
    "\n",
    "    # Aplicar limpieza a las columnas relevantes\n",
    "    df['Track'] = df['Track'].apply(clean_text)\n",
    "    df['Album Name'] = df['Album Name'].apply(clean_text)\n",
    "    df['Artist'] = df['Artist'].apply(clean_text)\n",
    "\n",
    "    # Reemplazar valores nulos\n",
    "    df['Artist'] = df['Artist'].fillna('Desconocido')  # O un valor que tenga sentido\n",
    "    df['Spotify Streams'] = df['Spotify Streams'].fillna(0)  # Reemplazar por 0 o un valor representativo\n",
    "\n",
    "    # Verificar si hay NaN en 'Spotify Streams'\n",
    "    if df['Spotify Streams'].isnull().any():\n",
    "        print(\"Hay valores no numéricos en 'Spotify Streams' que han sido convertidos a NaN.\")\n",
    "        print(df[df['Spotify Streams'].isnull()])\n",
    "\n",
    "    # Convertir a numérico, forzando errores a NaN\n",
    "    df['Track Score'] = pd.to_numeric(df['Track Score'], errors='coerce')\n",
    "\n",
    "    # Eliminar solo filas con 'Track' nulos\n",
    "    df.dropna(subset=['Track'], inplace=True)\n",
    "\n",
    "    return df\n",
    "\n",
    "# Limpiar el DataFrame\n",
    "df_cleaned = clean_data(df)\n",
    "\n",
    "# Mostrar la forma del DataFrame limpio\n",
    "print(df_cleaned.shape)\n",
    "\n",
    "# Verificar valores nulos en el DataFrame limpio\n",
    "print(df_cleaned.isnull().sum())"
   ]
  },
  {
   "cell_type": "code",
   "execution_count": 28,
   "metadata": {},
   "outputs": [
    {
     "name": "stdout",
     "output_type": "stream",
     "text": [
      "Track                           0\n",
      "Album Name                      0\n",
      "Artist                          0\n",
      "Release Date                    0\n",
      "ISRC                            0\n",
      "All Time Rank                   0\n",
      "Track Score                     0\n",
      "Spotify Streams                 0\n",
      "Spotify Playlist Count          0\n",
      "Spotify Playlist Reach          0\n",
      "Spotify Popularity              0\n",
      "YouTube Views                   0\n",
      "YouTube Likes                   0\n",
      "TikTok Posts                    0\n",
      "TikTok Likes                    0\n",
      "TikTok Views                    0\n",
      "YouTube Playlist Reach          0\n",
      "Apple Music Playlist Count      0\n",
      "AirPlay Spins                   0\n",
      "SiriusXM Spins                  0\n",
      "Deezer Playlist Count           0\n",
      "Deezer Playlist Reach           0\n",
      "Amazon Playlist Count           0\n",
      "Pandora Streams                 0\n",
      "Pandora Track Stations          0\n",
      "Soundcloud Streams              0\n",
      "Shazam Counts                   0\n",
      "TIDAL Popularity                0\n",
      "Explicit Track                  0\n",
      "image_url                     563\n",
      "dtype: int64\n",
      "(4600, 30)\n"
     ]
    }
   ],
   "source": [
    "# Convertir la columna 'Release Date' a tipo fecha\n",
    "df['Release Date'] = pd.to_datetime(df['Release Date'], errors='coerce')  # Convierte a fecha; errores se convierten a NaT\n",
    "\n",
    "# Rellenar columnas numéricas con 0\n",
    "numeric_columns = ['Spotify Streams', 'Spotify Playlist Count', 'Spotify Playlist Reach', \n",
    "                   'Spotify Popularity', 'YouTube Views', 'YouTube Likes', \n",
    "                   'TikTok Posts', 'TikTok Likes', 'TikTok Views', \n",
    "                   'YouTube Playlist Reach', 'Apple Music Playlist Count', \n",
    "                   'AirPlay Spins', 'SiriusXM Spins', 'Deezer Playlist Count', \n",
    "                   'Deezer Playlist Reach', 'Amazon Playlist Count', \n",
    "                   'Pandora Streams', 'Pandora Track Stations', \n",
    "                   'Soundcloud Streams', 'Shazam Counts', 'TIDAL Popularity']\n",
    "\n",
    "# Reemplazar NaN en columnas numéricas por 0\n",
    "df[numeric_columns] = df[numeric_columns].fillna(0)\n",
    "\n",
    "# Rellenar columnas no numéricas con 'No Data'\n",
    "df[['Track', 'Album Name', 'Artist', 'ISRC']] = df[['Track', 'Album Name', 'Artist', 'ISRC']].fillna('No Data')\n",
    "\n",
    "# Verificar si hay valores nulos restantes\n",
    "print(df.isnull().sum())\n",
    "\n",
    "# Mostrar la forma del DataFrame después de la limpieza\n",
    "print(df.shape)\n"
   ]
  },
  {
   "cell_type": "code",
   "execution_count": 29,
   "metadata": {},
   "outputs": [
    {
     "name": "stdout",
     "output_type": "stream",
     "text": [
      "(4037, 30)\n",
      "0\n"
     ]
    }
   ],
   "source": [
    "# Eliminar filas donde 'image_url' es nulo\n",
    "df_cleaned = df.dropna(subset=['image_url'])\n",
    "\n",
    "# Verificar la forma del DataFrame después de eliminar las filas\n",
    "print(df_cleaned.shape)\n",
    "\n",
    "# Verificar si aún hay valores nulos en 'image_url'\n",
    "print(df_cleaned['image_url'].isnull().sum())"
   ]
  },
  {
   "cell_type": "code",
   "execution_count": 31,
   "metadata": {},
   "outputs": [
    {
     "name": "stdout",
     "output_type": "stream",
     "text": [
      "Se encontraron duplicados en los nombres de los tracks:\n",
      "                          Track         Artist\n",
      "3                       Flowers    Miley Cyrus\n",
      "4                       Houdini         Eminem\n",
      "5                   Lovin On Me    Jack Harlow\n",
      "7                     Gata Only     FloyyMenor\n",
      "8          Danza Kuduro - Cover  MUSIC LAB JPN\n",
      "...                         ...            ...\n",
      "4508             Happy Birthday        YolyBoy\n",
      "4522    Smells Like Teen Spirit        Nirvana\n",
      "4539  Cake By The Ocean - Cover  MUSIC LAB JPN\n",
      "4570                        You     Willy Paul\n",
      "4590                   Daylight   Harry Styles\n",
      "\n",
      "[350 rows x 2 columns]\n"
     ]
    }
   ],
   "source": [
    "# Verificar duplicados en la columna 'Track'\n",
    "duplicated_tracks = df_cleaned[df_cleaned.duplicated(subset=['Track'], keep=False)]\n",
    "if not duplicated_tracks.empty:\n",
    "    print(\"Se encontraron duplicados en los nombres de los tracks:\")\n",
    "    print(duplicated_tracks[['Track', 'Artist']])  # Puedes imprimir más columnas si es necesario\n",
    "else:\n",
    "    print(\"No se encontraron duplicados en los nombres de los tracks.\")"
   ]
  },
  {
   "cell_type": "code",
   "execution_count": 32,
   "metadata": {},
   "outputs": [],
   "source": [
    "# Eliminar duplicados basados en la columna 'Track'\n",
    "df_cleaned = df_cleaned.drop_duplicates(subset=['Track'], keep='first')"
   ]
  },
  {
   "cell_type": "code",
   "execution_count": 33,
   "metadata": {},
   "outputs": [],
   "source": [
    "# Guardar el DataFrame limpio y sin duplicados en un archivo CSV\n",
    "df_cleaned.to_csv('spotify_cleaned.csv', index=False, encoding='utf-8')"
   ]
  },
  {
   "cell_type": "code",
   "execution_count": 34,
   "metadata": {},
   "outputs": [
    {
     "name": "stdout",
     "output_type": "stream",
     "text": [
      "Index(['Track', 'Album Name', 'Artist', 'Release Date', 'ISRC',\n",
      "       'All Time Rank', 'Track Score', 'Spotify Streams',\n",
      "       'Spotify Playlist Count', 'Spotify Playlist Reach',\n",
      "       'Spotify Popularity', 'YouTube Views', 'YouTube Likes', 'TikTok Posts',\n",
      "       'TikTok Likes', 'TikTok Views', 'YouTube Playlist Reach',\n",
      "       'Apple Music Playlist Count', 'AirPlay Spins', 'SiriusXM Spins',\n",
      "       'Deezer Playlist Count', 'Deezer Playlist Reach',\n",
      "       'Amazon Playlist Count', 'Pandora Streams', 'Pandora Track Stations',\n",
      "       'Soundcloud Streams', 'Shazam Counts', 'TIDAL Popularity',\n",
      "       'Explicit Track', 'image_url'],\n",
      "      dtype='object')\n"
     ]
    },
    {
     "ename": "",
     "evalue": "",
     "output_type": "error",
     "traceback": [
      "\u001b[1;31mEl kernel se bloqueó al ejecutar código en la celda actual o en una celda anterior. \n",
      "\u001b[1;31mRevise el código de las celdas para identificar una posible causa del error. \n",
      "\u001b[1;31mHaga clic <a href='https://aka.ms/vscodeJupyterKernelCrash'>aquí</a> para obtener más información. \n",
      "\u001b[1;31mVea Jupyter <a href='command:jupyter.viewOutput'>log</a> para obtener más detalles."
     ]
    }
   ],
   "source": [
    "print(df_cleaned.columns)"
   ]
  },
  {
   "cell_type": "code",
   "execution_count": null,
   "metadata": {},
   "outputs": [],
   "source": []
  }
 ],
 "metadata": {
  "kernelspec": {
   "display_name": "Python 3",
   "language": "python",
   "name": "python3"
  },
  "language_info": {
   "codemirror_mode": {
    "name": "ipython",
    "version": 3
   },
   "file_extension": ".py",
   "mimetype": "text/x-python",
   "name": "python",
   "nbconvert_exporter": "python",
   "pygments_lexer": "ipython3",
   "version": "3.12.6"
  }
 },
 "nbformat": 4,
 "nbformat_minor": 2
}
